{
 "cells": [
  {
   "cell_type": "code",
   "execution_count": 48,
   "metadata": {},
   "outputs": [],
   "source": [
    "import sqlalchemy as db"
   ]
  },
  {
   "cell_type": "code",
   "execution_count": 49,
   "metadata": {},
   "outputs": [],
   "source": [
    "from sqlalchemy import create_engine, MetaData, Table, Column, Integer,String"
   ]
  },
  {
   "cell_type": "code",
   "execution_count": 50,
   "metadata": {},
   "outputs": [],
   "source": [
    "engine = db.create_engine('sqlite:///user.db')"
   ]
  },
  {
   "cell_type": "code",
   "execution_count": 51,
   "metadata": {},
   "outputs": [],
   "source": [
    "connection = engine.connect()"
   ]
  },
  {
   "cell_type": "code",
   "execution_count": 52,
   "metadata": {},
   "outputs": [],
   "source": [
    "meta = db.MetaData()"
   ]
  },
  {
   "cell_type": "code",
   "execution_count": 53,
   "metadata": {},
   "outputs": [],
   "source": [
    "user_alchemy = db.Table(\n",
    "                    'user_alchemy', meta,\n",
    "                    db.Column('User_Id', Integer),\n",
    "                    db.Column('First_Name', String),\n",
    "                    db.Column('Last_Name', String),\n",
    "                    db.Column('Email', String)\n",
    ")"
   ]
  },
  {
   "cell_type": "code",
   "execution_count": 54,
   "metadata": {},
   "outputs": [],
   "source": [
    "meta.create_all(engine)"
   ]
  },
  {
   "cell_type": "code",
   "execution_count": 55,
   "metadata": {},
   "outputs": [],
   "source": [
    "ins = user_alchemy.insert().values([\n",
    "            {'User_Id' : 111, 'First_Name' : 'Milind', 'Last_Name' : 'Kasbekar', 'Email' : 'milindk@amdocs.com'}, \n",
    "            {'User_Id' : 222, 'First_Name' : 'ABC', 'Last_Name' : 'DEF','Email' : 'abc.def@yahoo.com'}, \n",
    "            {'User_Id' : 333, 'First_Name' : 'ADB', 'Last_Name' : 'MNO','Email' : 'adb.mno@yahoo.com'}, \n",
    "            {'User_Id' : 444, 'First_Name' : 'XYZ', 'Last_Name' : 'MNO','Email' : 'xyz.mno@yahoo.com'}, \n",
    "            {'User_Id' : 555, 'First_Name' : 'SRS', 'Last_Name' : 'DBD','Email' : 'srs.dbd@yahoo.com'}\n",
    "        ]\n",
    "    )"
   ]
  },
  {
   "cell_type": "code",
   "execution_count": 56,
   "metadata": {},
   "outputs": [
    {
     "data": {
      "text/plain": [
       "<sqlalchemy.engine.cursor.LegacyCursorResult at 0x2c9f914a730>"
      ]
     },
     "execution_count": 56,
     "metadata": {},
     "output_type": "execute_result"
    }
   ],
   "source": [
    "connection.execute(ins)"
   ]
  },
  {
   "cell_type": "code",
   "execution_count": 57,
   "metadata": {},
   "outputs": [],
   "source": [
    "query_sel = db.select([user_alchemy])"
   ]
  },
  {
   "cell_type": "code",
   "execution_count": 58,
   "metadata": {},
   "outputs": [],
   "source": [
    "result_proxy = connection.execute(query_sel)"
   ]
  },
  {
   "cell_type": "code",
   "execution_count": 59,
   "metadata": {},
   "outputs": [],
   "source": [
    "result_set = result_proxy.fetchall()"
   ]
  },
  {
   "cell_type": "code",
   "execution_count": 60,
   "metadata": {},
   "outputs": [
    {
     "name": "stdout",
     "output_type": "stream",
     "text": [
      "[(111, 'Milind', 'Kasbekar', 'milindk@amdocs.com'), (222, 'ABC', 'DEF', 'abc.def@yahoo.com'), (333, 'ADB', 'MNO', 'adb.mno@yahoo.com'), (444, 'XYZ', 'MNO', 'xyz.mno@yahoo.com'), (555, 'SRS', 'DBD', 'srs.dbd@yahoo.com')]\n"
     ]
    }
   ],
   "source": [
    "print(result_set)"
   ]
  },
  {
   "cell_type": "code",
   "execution_count": null,
   "metadata": {},
   "outputs": [],
   "source": []
  }
 ],
 "metadata": {
  "kernelspec": {
   "display_name": "Python 3",
   "language": "python",
   "name": "python3"
  },
  "language_info": {
   "codemirror_mode": {
    "name": "ipython",
    "version": 3
   },
   "file_extension": ".py",
   "mimetype": "text/x-python",
   "name": "python",
   "nbconvert_exporter": "python",
   "pygments_lexer": "ipython3",
   "version": "3.8.5"
  },
  "toc": {
   "base_numbering": 1,
   "nav_menu": {},
   "number_sections": true,
   "sideBar": true,
   "skip_h1_title": false,
   "title_cell": "Table of Contents",
   "title_sidebar": "Contents",
   "toc_cell": false,
   "toc_position": {},
   "toc_section_display": true,
   "toc_window_display": false
  }
 },
 "nbformat": 4,
 "nbformat_minor": 4
}
